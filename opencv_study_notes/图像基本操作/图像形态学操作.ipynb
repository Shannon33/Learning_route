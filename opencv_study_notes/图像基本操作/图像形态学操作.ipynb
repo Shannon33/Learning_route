{
 "nbformat": 4,
 "nbformat_minor": 2,
 "metadata": {
  "language_info": {
   "name": "python",
   "codemirror_mode": {
    "name": "ipython",
    "version": 3
   },
   "version": "3.7.3-final"
  },
  "orig_nbformat": 2,
  "file_extension": ".py",
  "mimetype": "text/x-python",
  "name": "python",
  "npconvert_exporter": "python",
  "pygments_lexer": "ipython3",
  "version": 3,
  "kernelspec": {
   "name": "python37364bitanaconda3virtualenvb60781c2c1d84ab3ab15bc0831676f64",
   "display_name": "Python 3.7.3 64-bit ('anaconda3': virtualenv)"
  }
 },
 "cells": [
  {
   "cell_type": "markdown",
   "execution_count": null,
   "metadata": {},
   "outputs": [],
   "source": [
    "### 图像形态学操作  \n",
    "通常都是二值的图像来做腐蚀操作。腐蚀的大概意思就是往里面缩一些。"
   ]
  },
  {
   "cell_type": "code",
   "execution_count": 1,
   "metadata": {},
   "outputs": [],
   "source": [
    "import cv2\n",
    "import matplotlib.pyplot as plt \n",
    "import numpy as np\n",
    "#显示图像函数\n",
    "def cv_show(name,img):\n",
    "    cv2.imshow(name,img)\n",
    "    while cv2.waitKey(100) != 27:# loop if not get ESC\n",
    "        if cv2.getWindowProperty(name,cv2.WND_PROP_VISIBLE) <= 0:\n",
    "            break\n",
    "    cv2.destroyWindow(name)"
   ]
  },
  {
   "cell_type": "markdown",
   "execution_count": null,
   "metadata": {},
   "outputs": [],
   "source": [
    "消除毛刺"
   ]
  },
  {
   "cell_type": "code",
   "execution_count": 5,
   "metadata": {},
   "outputs": [],
   "source": [
    "img = cv2.imread('dige.png')\n",
    "cv_show('img',img)"
   ]
  },
  {
   "cell_type": "code",
   "execution_count": 6,
   "metadata": {},
   "outputs": [],
   "source": [
    "kernel = np.ones((3,3),np.uint8)\n",
    "erosion = cv2.erode(img,kernel,iterations=1)\n",
    "cv_show('erosion',erosion)"
   ]
  },
  {
   "cell_type": "markdown",
   "execution_count": null,
   "metadata": {},
   "outputs": [],
   "source": [
    "加粗瑕疵毛刺"
   ]
  },
  {
   "cell_type": "code",
   "execution_count": 5,
   "metadata": {},
   "outputs": [],
   "source": [
    "img = cv2.imread('dige.png')\n",
    "kernel = np.ones((3,3),np.uint8)\n",
    "img_dilate = cv2.dilate(img,kernel,iterations=1)\n",
    "cv_show('dilate',img_dilate)"
   ]
  },
  {
   "cell_type": "markdown",
   "execution_count": null,
   "metadata": {},
   "outputs": [],
   "source": [
    "#### 以黑白圆圈为例"
   ]
  },
  {
   "cell_type": "code",
   "execution_count": 2,
   "metadata": {},
   "outputs": [],
   "source": [
    "pie = cv2.imread('pie.png')\n",
    "cv_show('pie',pie)\n"
   ]
  },
  {
   "cell_type": "code",
   "execution_count": 3,
   "metadata": {},
   "outputs": [],
   "source": [
    "kernel = np.ones((30,30),np.uint8)\n",
    "erosion_1 = cv2.erode(pie,kernel,iterations=1)\n",
    "erosion_2 = cv2.erode(pie,kernel,iterations=2)\n",
    "erosion_3 = cv2.erode(pie,kernel,iterations=3)\n",
    "res = np.hstack((erosion_1,erosion_2,erosion_3))\n",
    "cv_show('res',res)"
   ]
  },
  {
   "cell_type": "markdown",
   "execution_count": null,
   "metadata": {},
   "outputs": [],
   "source": [
    "### 开运算、闭运算"
   ]
  },
  {
   "cell_type": "code",
   "execution_count": 6,
   "metadata": {},
   "outputs": [],
   "source": [
    "# 开：先腐蚀，再膨胀\n",
    "#这个操作能够将主体被腐蚀地部分补偿回去，但是边缘的毛刺很好的被清除掉。\n",
    "img = cv2.imread('dige.png')\n",
    "kernel = np.ones((5,5),np.uint8)\n",
    "opening = cv2.morphologyEx(img,cv2.MORPH_OPEN,kernel)\n",
    "cv_show('opening',opening)\n"
   ]
  },
  {
   "cell_type": "code",
   "execution_count": 7,
   "metadata": {},
   "outputs": [],
   "source": [
    "# 闭：先膨胀，再腐蚀\n",
    "#这个就对边缘的毛刺没有什么清除效果\n",
    "img = cv2.imread('dige.png')\n",
    "kernel = np.ones((5,5),np.uint8)\n",
    "closing = cv2.morphologyEx(img,cv2.MORPH_CLOSE,kernel)\n",
    "cv_show('closing',closing)\n"
   ]
  },
  {
   "cell_type": "markdown",
   "execution_count": null,
   "metadata": {},
   "outputs": [],
   "source": [
    "### 梯度运算\n",
    "梯度=膨胀-腐蚀"
   ]
  },
  {
   "cell_type": "code",
   "execution_count": 10,
   "metadata": {},
   "outputs": [],
   "source": [
    "pie = cv2.imread('pie.png')\n",
    "kernel = np.ones((3,3),np.uint8)\n",
    "gradient = cv2.morphologyEx(pie,cv2.MORPH_GRADIENT,kernel)\n",
    "cv_show('gradient',gradient)"
   ]
  },
  {
   "cell_type": "markdown",
   "execution_count": null,
   "metadata": {},
   "outputs": [],
   "source": [
    "### 礼帽与黑帽  \n",
    "礼帽 = 原始输入-开运算结果  \n",
    "黑帽 = 闭运算-原始输入"
   ]
  },
  {
   "cell_type": "code",
   "execution_count": 11,
   "metadata": {},
   "outputs": [],
   "source": [
    "#礼帽\n",
    "kernel = np.ones((7,7),np.uint8)\n",
    "img = cv2.imread('dige.png')\n",
    "tophat = cv2.morphologyEx(img,cv2.MORPH_TOPHAT,kernel)\n",
    "cv_show('tophat',tophat)"
   ]
  },
  {
   "cell_type": "code",
   "execution_count": 12,
   "metadata": {},
   "outputs": [],
   "source": [
    "#黑帽\n",
    "kernel = np.ones((7,7),np.uint8)\n",
    "img = cv2.imread('dige.png')\n",
    "balckhat = cv2.morphologyEx(img,cv2.MORPH_BLACKHAT,kernel)\n",
    "cv_show('black',balckhat)"
   ]
  },
  {
   "cell_type": "code",
   "execution_count": null,
   "metadata": {},
   "outputs": [],
   "source": []
  },
  {
   "cell_type": "code",
   "execution_count": null,
   "metadata": {},
   "outputs": [],
   "source": []
  },
  {
   "cell_type": "code",
   "execution_count": null,
   "metadata": {},
   "outputs": [],
   "source": []
  }
 ]
}