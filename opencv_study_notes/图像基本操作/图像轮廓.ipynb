{
 "nbformat": 4,
 "nbformat_minor": 2,
 "metadata": {
  "language_info": {
   "name": "python",
   "codemirror_mode": {
    "name": "ipython",
    "version": 3
   },
   "version": "3.7.3-final"
  },
  "orig_nbformat": 2,
  "file_extension": ".py",
  "mimetype": "text/x-python",
  "name": "python",
  "npconvert_exporter": "python",
  "pygments_lexer": "ipython3",
  "version": 3,
  "kernelspec": {
   "name": "python37364bitanaconda3virtualenvb60781c2c1d84ab3ab15bc0831676f64",
   "display_name": "Python 3.7.3 64-bit ('anaconda3': virtualenv)"
  }
 },
 "cells": [
  {
   "cell_type": "markdown",
   "metadata": {},
   "source": [
    "### 图像轮廓"
   ]
  },
  {
   "cell_type": "code",
   "execution_count": 1,
   "metadata": {},
   "outputs": [],
   "source": [
    "import cv2\n",
    "def cv_show(name,img):\n",
    "    cv2.imshow(name,img)\n",
    "    while cv2.waitKey(100) != 27:# loop if not get ESC\n",
    "        if cv2.getWindowProperty(name,cv2.WND_PROP_VISIBLE) <= 0:\n",
    "            break\n",
    "    cv2.destroyWindow(name)"
   ]
  },
  {
   "cell_type": "markdown",
   "metadata": {},
   "source": [
    "#### cv2.findContours(img,mode,method)\n",
    "mode:轮廓检索模式\n",
    "- RETR_EXTERNAL ：只检索最外面的轮廓；\n",
    "- RETR_LIST：检索所有的轮廓，并将其保存到一条链表当中；\n",
    "- RETR_CCOMP：检索所有的轮廓，并将他们组织为两层：顶层是各部分的外部边界，第二层是空洞的边界;\n",
    "- RETR_TREE：检索所有的轮廓，并重构嵌套轮廓的整个层次;\n",
    "\n",
    "method:轮廓逼近方法\n",
    "- CHAIN_APPROX_NONE：以Freeman链码的方式输出轮廓，所有其他方法输出多边形（顶点的序列）。\n",
    "- CHAIN_APPROX_SIMPLE:压缩水平的、垂直的和斜的部分，也就是，函数只保留他们的终点部分。"
   ]
  },
  {
   "cell_type": "markdown",
   "metadata": {},
   "source": [
    "什么是轮廓？轮廓是一系列相连的点组成的曲线，代表了物体的基本外形，相对于边缘，轮廓是连续的，边缘并不全部连续。"
   ]
  },
  {
   "cell_type": "markdown",
   "metadata": {},
   "source": [
    "如何寻找轮廓？寻找轮廓的操作一般用于二值化图，所以通常会使用阈值分割或Canny边缘检测先得到二值图  \n",
    "\n",
    "PS：寻找轮廓是针对白色物体的，一定要保证物体是白色，而背景是黑色，不然很多人在寻找轮廓时会找到图片最外面的一个框"
   ]
  },
  {
   "cell_type": "code",
   "execution_count": 26,
   "metadata": {},
   "outputs": [],
   "source": [
    "img = cv2.imread('map.jpeg')\n",
    "gray = cv2.cvtColor(img,cv2.COLOR_BGR2GRAY)\n",
    "ret, thresh = cv2.threshold(gray,127,255,cv2.THRESH_BINARY)#大于127取255，小于取0\n",
    "cv_show('thresh',thresh)"
   ]
  },
  {
   "cell_type": "markdown",
   "metadata": {},
   "source": [
    "参数1：二值化原图  \n",
    "参数2：轮廓的查找方式，一般使用cv2.RETR_TREE，表示提取所有的轮廓并建立轮廓间的层级。  \n",
    "参数3：轮廓的近似方法。比如对于一条直线，我们可以存储该直线的所有像素点（cv2.CHAIN_APPOX_NONE），也可以只存储起点和终点。使用 cv2.CHAIN_APPROX_SIMPLE 就表示用尽可能少的像素点表示轮廓."
   ]
  },
  {
   "cell_type": "code",
   "execution_count": 27,
   "metadata": {},
   "outputs": [],
   "source": [
    "contours, hierarchy = cv2.findContours(thresh, cv2.RETR_TREE, cv2.CHAIN_APPROX_NONE) #新版的opencv调用只返回两个参数,此时本人用的版本是4.1.2"
   ]
  },
  {
   "cell_type": "markdown",
   "metadata": {},
   "source": [
    "contours即为轮廓的像素集合（可能有多个轮廓，需要找到自己要提取的轮廓）"
   ]
  },
  {
   "cell_type": "markdown",
   "metadata": {},
   "source": [
    "绘制轮廓"
   ]
  },
  {
   "cell_type": "code",
   "execution_count": 47,
   "metadata": {},
   "outputs": [],
   "source": [
    "#传入绘制图像，轮廓，轮廓索引，颜色模式，线条厚度\n",
    "# 注意需要copy,要不原图会变。。。\n",
    "draw_img = img.copy()\n",
    "#cv2.drawContours参数：图片，轮廓集合，第几个轮廓(-1表示绘制所有轮廓) ，画笔颜色((0,0,255)表示红色)，画笔宽度,\n",
    "res = cv2.drawContours(draw_img,contours,110,(0,0,255),2)     \n",
    "cv_show('res',res)"
   ]
  },
  {
   "cell_type": "code",
   "execution_count": 32,
   "metadata": {},
   "outputs": [
    {
     "output_type": "stream",
     "name": "stdout",
     "text": "610\n"
    }
   ],
   "source": [
    "print(len(contours))"
   ]
  },
  {
   "cell_type": "markdown",
   "metadata": {},
   "source": [
    "### 轮廓特征  \n",
    "计算物体的周长、面积、质心、最小外接矩形等   \n",
    "OpenCV函数：cv2.contourArea(), cv2.arcLength(), cv2.approxPolyDP()等 "
   ]
  },
  {
   "cell_type": "code",
   "execution_count": 36,
   "metadata": {},
   "outputs": [
    {
     "output_type": "execute_result",
     "data": {
      "text/plain": "365715.0"
     },
     "metadata": {},
     "execution_count": 36
    }
   ],
   "source": [
    "#面积\n",
    "cv2.contourArea(cont)"
   ]
  },
  {
   "cell_type": "code",
   "execution_count": 46,
   "metadata": {
    "tags": [
     "outputPrepend"
    ]
   },
   "outputs": [
    {
     "output_type": "stream",
     "name": "stdout",
     "text": "365715.0 0\n530.0 61\n200.0 64\n139.5 88\n627.0 110\n161.0 119\n102.0 124\n109.0 136\n695.0 164\n110.5 205\n524.5 224\n380.5 242\n316.5 243\n227.0 253\n106.5 273\n108.0 286\n106.0 315\n5552.0 333\n1726.5 339\n122.0 344\n129.5 348\n135.0 370\n155.0 377\n101.0 384\n302.5 395\n163.0 398\n359.0 407\n113.0 412\n100.5 420\n123.5 423\n261.5 431\n520.5 441\n100.5 442\n297.0 446\n119.0 457\n216.0 470\n268.0 484\n116.0 490\n106.5 510\n637.5 519\n113.5 557\n100.5 560\n155.5 579\n285.0 585\n144.0 586\n2087.0 595\n314.0 597\n114.5 599\n113.0 608\n"
    }
   ],
   "source": [
    "#查看每个较大点的轮廓\n",
    "for index,area in enumerate(contours,0) :\n",
    "    if cv2.contourArea(area)>100:\n",
    "        print(cv2.contourArea(area),index)"
   ]
  },
  {
   "cell_type": "code",
   "execution_count": 48,
   "metadata": {},
   "outputs": [],
   "source": [
    "cont = contours[0]"
   ]
  },
  {
   "cell_type": "code",
   "execution_count": 37,
   "metadata": {},
   "outputs": [
    {
     "output_type": "execute_result",
     "data": {
      "text/plain": "2424.0"
     },
     "metadata": {},
     "execution_count": 37
    }
   ],
   "source": [
    "#周长\n",
    "cv2.arcLength(cont,True)    #True表示闭合"
   ]
  },
  {
   "cell_type": "markdown",
   "metadata": {},
   "source": [
    "当轮廓有毛刺的时候，我们希望能够做轮廓近似，将毛刺去掉，大体思想是将曲线用直线代替，但是有个长度的阈值需要自己设定。"
   ]
  },
  {
   "cell_type": "markdown",
   "metadata": {},
   "source": [
    "### 轮廓近似  \n",
    "将轮廓形状近似到另外一种由更少点组成的轮廓形状，新轮廓的点的数目由我们设定的准确度来决定，用的Douglas-Peucker算法。"
   ]
  },
  {
   "cell_type": "code",
   "execution_count": 50,
   "metadata": {},
   "outputs": [],
   "source": [
    "#先找到轮廓\n",
    "img_contours = cv2.imread('contours2.png')\n",
    "gray = cv2.cvtColor(img_contours,cv2.COLOR_BGR2GRAY)    #灰度处理\n",
    "ret,thresh = cv2.threshold(gray,127,255,cv2.THRESH_BINARY) #二值化\n",
    "#找轮廓\n",
    "contours2, hierarchy2 = cv2.findContours(thresh,cv2.RETR_TREE,cv2.CHAIN_APPROX_NONE)\n",
    "#第一个轮廓\n",
    "cnt = contours2[0]\n",
    "\n",
    "draw_img = img_contours.copy()\n",
    "res = cv2.drawContours(draw_img,[cnt],-1,(0,0,255),2)\n",
    "cv_show('res',res)"
   ]
  },
  {
   "cell_type": "code",
   "execution_count": 55,
   "metadata": {},
   "outputs": [],
   "source": [
    "#行多边形逼近，得到多边形的角点\n",
    "epsilon = 0.15 * cv2.arcLength(cnt,True)\n",
    "approx = cv2.approxPolyDP(cnt,epsilon,True)\n",
    "\n",
    "draw_img = img_contours.copy()\n",
    "res = cv2.drawContours(draw_img,[approx],-1,(0,0,255),2)\n",
    "cv_show('res',res)"
   ]
  },
  {
   "cell_type": "markdown",
   "metadata": {},
   "source": [
    "其中cv2.approxPolyDP() 的参数2($epsilon$)是一个距离值，表示多边形的轮廓接近实际轮廓的程度，值越小，越精确；参数3表示是否闭合。"
   ]
  },
  {
   "cell_type": "markdown",
   "metadata": {},
   "source": [
    "对于轮廓我们还可以做一些额外的操作，比如外接矩形，外接圆，外界椭圆等等。\n",
    "### 边界矩形\n"
   ]
  },
  {
   "cell_type": "code",
   "execution_count": 68,
   "metadata": {},
   "outputs": [],
   "source": [
    "img_contours = cv2.imread('contours2.png')\n",
    "gray = cv2.cvtColor(img_contours,cv2.COLOR_BGR2GRAY)    #灰度处理\n",
    "ret,thresh = cv2.threshold(gray,127,255,cv2.THRESH_BINARY) #二值化\n",
    "#找轮廓\n",
    "contours2, hierarchy2 = cv2.findContours(thresh,cv2.RETR_TREE,cv2.CHAIN_APPROX_NONE)\n",
    "#第一个轮廓\n",
    "cnt = contours2[0]\n",
    "\n",
    "img = img_contours.copy()\n",
    "x,y,w,h = cv2.boundingRect(cnt)\n",
    "img = cv2.rectangle(img,(x,y),(x+w,y+h),(0,255,0),2)\n",
    "cv_show('img',img)"
   ]
  },
  {
   "cell_type": "code",
   "execution_count": 69,
   "metadata": {},
   "outputs": [
    {
     "output_type": "execute_result",
     "data": {
      "text/plain": "<matplotlib.image.AxesImage at 0x133ae3048>"
     },
     "metadata": {},
     "execution_count": 69
    },
    {
     "output_type": "display_data",
     "data": {
      "text/plain": "<Figure size 432x288 with 1 Axes>",
      "image/svg+xml": "<?xml version=\"1.0\" encoding=\"utf-8\" standalone=\"no\"?>\n<!DOCTYPE svg PUBLIC \"-//W3C//DTD SVG 1.1//EN\"\n  \"http://www.w3.org/Graphics/SVG/1.1/DTD/svg11.dtd\">\n<!-- Created with matplotlib (https://matplotlib.org/) -->\n<svg height=\"251.96205pt\" version=\"1.1\" viewBox=\"0 0 362.383971 251.96205\" width=\"362.383971pt\" xmlns=\"http://www.w3.org/2000/svg\" xmlns:xlink=\"http://www.w3.org/1999/xlink\">\n <defs>\n  <style type=\"text/css\">\n*{stroke-linecap:butt;stroke-linejoin:round;}\n  </style>\n </defs>\n <g id=\"figure_1\">\n  <g id=\"patch_1\">\n   <path d=\"M 0 251.96205 \nL 362.383971 251.96205 \nL 362.383971 0 \nL 0 0 \nz\n\" style=\"fill:none;\"/>\n  </g>\n  <g id=\"axes_1\">\n   <g id=\"patch_2\">\n    <path d=\"M 33.2875 228.083925 \nL 355.183971 228.083925 \nL 355.183971 10.643925 \nL 33.2875 10.643925 \nz\n\" style=\"fill:#ffffff;\"/>\n   </g>\n   <g clip-path=\"url(#p31d57cfaba)\">\n    <image height=\"218\" id=\"imagee2ea1d7537\" transform=\"scale(1 -1)translate(0 -218)\" width=\"322\" x=\"33.2875\" xlink:href=\"data:image/png;base64,\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\" y=\"-10.083925\"/>\n   </g>\n   <g id=\"matplotlib.axis_1\">\n    <g id=\"xtick_1\">\n     <g id=\"line2d_1\">\n      <defs>\n       <path d=\"M 0 0 \nL 0 3.5 \n\" id=\"mc2c2ccb242\" style=\"stroke:#000000;stroke-width:0.8;\"/>\n      </defs>\n      <g>\n       <use style=\"stroke:#000000;stroke-width:0.8;\" x=\"33.642794\" xlink:href=\"#mc2c2ccb242\" y=\"228.083925\"/>\n      </g>\n     </g>\n     <g id=\"text_1\">\n      <!-- 0 -->\n      <defs>\n       <path d=\"M 31.78125 66.40625 \nQ 24.171875 66.40625 20.328125 58.90625 \nQ 16.5 51.421875 16.5 36.375 \nQ 16.5 21.390625 20.328125 13.890625 \nQ 24.171875 6.390625 31.78125 6.390625 \nQ 39.453125 6.390625 43.28125 13.890625 \nQ 47.125 21.390625 47.125 36.375 \nQ 47.125 51.421875 43.28125 58.90625 \nQ 39.453125 66.40625 31.78125 66.40625 \nz\nM 31.78125 74.21875 \nQ 44.046875 74.21875 50.515625 64.515625 \nQ 56.984375 54.828125 56.984375 36.375 \nQ 56.984375 17.96875 50.515625 8.265625 \nQ 44.046875 -1.421875 31.78125 -1.421875 \nQ 19.53125 -1.421875 13.0625 8.265625 \nQ 6.59375 17.96875 6.59375 36.375 \nQ 6.59375 54.828125 13.0625 64.515625 \nQ 19.53125 74.21875 31.78125 74.21875 \nz\n\" id=\"DejaVuSans-48\"/>\n      </defs>\n      <g transform=\"translate(30.461544 242.682362)scale(0.1 -0.1)\">\n       <use xlink:href=\"#DejaVuSans-48\"/>\n      </g>\n     </g>\n    </g>\n    <g id=\"xtick_2\">\n     <g id=\"line2d_2\">\n      <g>\n       <use style=\"stroke:#000000;stroke-width:0.8;\" x=\"104.701618\" xlink:href=\"#mc2c2ccb242\" y=\"228.083925\"/>\n      </g>\n     </g>\n     <g id=\"text_2\">\n      <!-- 100 -->\n      <defs>\n       <path d=\"M 12.40625 8.296875 \nL 28.515625 8.296875 \nL 28.515625 63.921875 \nL 10.984375 60.40625 \nL 10.984375 69.390625 \nL 28.421875 72.90625 \nL 38.28125 72.90625 \nL 38.28125 8.296875 \nL 54.390625 8.296875 \nL 54.390625 0 \nL 12.40625 0 \nz\n\" id=\"DejaVuSans-49\"/>\n      </defs>\n      <g transform=\"translate(95.157868 242.682362)scale(0.1 -0.1)\">\n       <use xlink:href=\"#DejaVuSans-49\"/>\n       <use x=\"63.623047\" xlink:href=\"#DejaVuSans-48\"/>\n       <use x=\"127.246094\" xlink:href=\"#DejaVuSans-48\"/>\n      </g>\n     </g>\n    </g>\n    <g id=\"xtick_3\">\n     <g id=\"line2d_3\">\n      <g>\n       <use style=\"stroke:#000000;stroke-width:0.8;\" x=\"175.760441\" xlink:href=\"#mc2c2ccb242\" y=\"228.083925\"/>\n      </g>\n     </g>\n     <g id=\"text_3\">\n      <!-- 200 -->\n      <defs>\n       <path d=\"M 19.1875 8.296875 \nL 53.609375 8.296875 \nL 53.609375 0 \nL 7.328125 0 \nL 7.328125 8.296875 \nQ 12.9375 14.109375 22.625 23.890625 \nQ 32.328125 33.6875 34.8125 36.53125 \nQ 39.546875 41.84375 41.421875 45.53125 \nQ 43.3125 49.21875 43.3125 52.78125 \nQ 43.3125 58.59375 39.234375 62.25 \nQ 35.15625 65.921875 28.609375 65.921875 \nQ 23.96875 65.921875 18.8125 64.3125 \nQ 13.671875 62.703125 7.8125 59.421875 \nL 7.8125 69.390625 \nQ 13.765625 71.78125 18.9375 73 \nQ 24.125 74.21875 28.421875 74.21875 \nQ 39.75 74.21875 46.484375 68.546875 \nQ 53.21875 62.890625 53.21875 53.421875 \nQ 53.21875 48.921875 51.53125 44.890625 \nQ 49.859375 40.875 45.40625 35.40625 \nQ 44.1875 33.984375 37.640625 27.21875 \nQ 31.109375 20.453125 19.1875 8.296875 \nz\n\" id=\"DejaVuSans-50\"/>\n      </defs>\n      <g transform=\"translate(166.216691 242.682362)scale(0.1 -0.1)\">\n       <use xlink:href=\"#DejaVuSans-50\"/>\n       <use x=\"63.623047\" xlink:href=\"#DejaVuSans-48\"/>\n       <use x=\"127.246094\" xlink:href=\"#DejaVuSans-48\"/>\n      </g>\n     </g>\n    </g>\n    <g id=\"xtick_4\">\n     <g id=\"line2d_4\">\n      <g>\n       <use style=\"stroke:#000000;stroke-width:0.8;\" x=\"246.819265\" xlink:href=\"#mc2c2ccb242\" y=\"228.083925\"/>\n      </g>\n     </g>\n     <g id=\"text_4\">\n      <!-- 300 -->\n      <defs>\n       <path d=\"M 40.578125 39.3125 \nQ 47.65625 37.796875 51.625 33 \nQ 55.609375 28.21875 55.609375 21.1875 \nQ 55.609375 10.40625 48.1875 4.484375 \nQ 40.765625 -1.421875 27.09375 -1.421875 \nQ 22.515625 -1.421875 17.65625 -0.515625 \nQ 12.796875 0.390625 7.625 2.203125 \nL 7.625 11.71875 \nQ 11.71875 9.328125 16.59375 8.109375 \nQ 21.484375 6.890625 26.8125 6.890625 \nQ 36.078125 6.890625 40.9375 10.546875 \nQ 45.796875 14.203125 45.796875 21.1875 \nQ 45.796875 27.640625 41.28125 31.265625 \nQ 36.765625 34.90625 28.71875 34.90625 \nL 20.21875 34.90625 \nL 20.21875 43.015625 \nL 29.109375 43.015625 \nQ 36.375 43.015625 40.234375 45.921875 \nQ 44.09375 48.828125 44.09375 54.296875 \nQ 44.09375 59.90625 40.109375 62.90625 \nQ 36.140625 65.921875 28.71875 65.921875 \nQ 24.65625 65.921875 20.015625 65.03125 \nQ 15.375 64.15625 9.8125 62.3125 \nL 9.8125 71.09375 \nQ 15.4375 72.65625 20.34375 73.4375 \nQ 25.25 74.21875 29.59375 74.21875 \nQ 40.828125 74.21875 47.359375 69.109375 \nQ 53.90625 64.015625 53.90625 55.328125 \nQ 53.90625 49.265625 50.4375 45.09375 \nQ 46.96875 40.921875 40.578125 39.3125 \nz\n\" id=\"DejaVuSans-51\"/>\n      </defs>\n      <g transform=\"translate(237.275515 242.682362)scale(0.1 -0.1)\">\n       <use xlink:href=\"#DejaVuSans-51\"/>\n       <use x=\"63.623047\" xlink:href=\"#DejaVuSans-48\"/>\n       <use x=\"127.246094\" xlink:href=\"#DejaVuSans-48\"/>\n      </g>\n     </g>\n    </g>\n    <g id=\"xtick_5\">\n     <g id=\"line2d_5\">\n      <g>\n       <use style=\"stroke:#000000;stroke-width:0.8;\" x=\"317.878088\" xlink:href=\"#mc2c2ccb242\" y=\"228.083925\"/>\n      </g>\n     </g>\n     <g id=\"text_5\">\n      <!-- 400 -->\n      <defs>\n       <path d=\"M 37.796875 64.3125 \nL 12.890625 25.390625 \nL 37.796875 25.390625 \nz\nM 35.203125 72.90625 \nL 47.609375 72.90625 \nL 47.609375 25.390625 \nL 58.015625 25.390625 \nL 58.015625 17.1875 \nL 47.609375 17.1875 \nL 47.609375 0 \nL 37.796875 0 \nL 37.796875 17.1875 \nL 4.890625 17.1875 \nL 4.890625 26.703125 \nz\n\" id=\"DejaVuSans-52\"/>\n      </defs>\n      <g transform=\"translate(308.334338 242.682362)scale(0.1 -0.1)\">\n       <use xlink:href=\"#DejaVuSans-52\"/>\n       <use x=\"63.623047\" xlink:href=\"#DejaVuSans-48\"/>\n       <use x=\"127.246094\" xlink:href=\"#DejaVuSans-48\"/>\n      </g>\n     </g>\n    </g>\n   </g>\n   <g id=\"matplotlib.axis_2\">\n    <g id=\"ytick_1\">\n     <g id=\"line2d_6\">\n      <defs>\n       <path d=\"M 0 0 \nL -3.5 0 \n\" id=\"mc9d3a03803\" style=\"stroke:#000000;stroke-width:0.8;\"/>\n      </defs>\n      <g>\n       <use style=\"stroke:#000000;stroke-width:0.8;\" x=\"33.2875\" xlink:href=\"#mc9d3a03803\" y=\"10.999219\"/>\n      </g>\n     </g>\n     <g id=\"text_6\">\n      <!-- 0 -->\n      <g transform=\"translate(19.925 14.798437)scale(0.1 -0.1)\">\n       <use xlink:href=\"#DejaVuSans-48\"/>\n      </g>\n     </g>\n    </g>\n    <g id=\"ytick_2\">\n     <g id=\"line2d_7\">\n      <g>\n       <use style=\"stroke:#000000;stroke-width:0.8;\" x=\"33.2875\" xlink:href=\"#mc9d3a03803\" y=\"46.528631\"/>\n      </g>\n     </g>\n     <g id=\"text_7\">\n      <!-- 50 -->\n      <defs>\n       <path d=\"M 10.796875 72.90625 \nL 49.515625 72.90625 \nL 49.515625 64.59375 \nL 19.828125 64.59375 \nL 19.828125 46.734375 \nQ 21.96875 47.46875 24.109375 47.828125 \nQ 26.265625 48.1875 28.421875 48.1875 \nQ 40.625 48.1875 47.75 41.5 \nQ 54.890625 34.8125 54.890625 23.390625 \nQ 54.890625 11.625 47.5625 5.09375 \nQ 40.234375 -1.421875 26.90625 -1.421875 \nQ 22.3125 -1.421875 17.546875 -0.640625 \nQ 12.796875 0.140625 7.71875 1.703125 \nL 7.71875 11.625 \nQ 12.109375 9.234375 16.796875 8.0625 \nQ 21.484375 6.890625 26.703125 6.890625 \nQ 35.15625 6.890625 40.078125 11.328125 \nQ 45.015625 15.765625 45.015625 23.390625 \nQ 45.015625 31 40.078125 35.4375 \nQ 35.15625 39.890625 26.703125 39.890625 \nQ 22.75 39.890625 18.8125 39.015625 \nQ 14.890625 38.140625 10.796875 36.28125 \nz\n\" id=\"DejaVuSans-53\"/>\n      </defs>\n      <g transform=\"translate(13.5625 50.327849)scale(0.1 -0.1)\">\n       <use xlink:href=\"#DejaVuSans-53\"/>\n       <use x=\"63.623047\" xlink:href=\"#DejaVuSans-48\"/>\n      </g>\n     </g>\n    </g>\n    <g id=\"ytick_3\">\n     <g id=\"line2d_8\">\n      <g>\n       <use style=\"stroke:#000000;stroke-width:0.8;\" x=\"33.2875\" xlink:href=\"#mc9d3a03803\" y=\"82.058042\"/>\n      </g>\n     </g>\n     <g id=\"text_8\">\n      <!-- 100 -->\n      <g transform=\"translate(7.2 85.857261)scale(0.1 -0.1)\">\n       <use xlink:href=\"#DejaVuSans-49\"/>\n       <use x=\"63.623047\" xlink:href=\"#DejaVuSans-48\"/>\n       <use x=\"127.246094\" xlink:href=\"#DejaVuSans-48\"/>\n      </g>\n     </g>\n    </g>\n    <g id=\"ytick_4\">\n     <g id=\"line2d_9\">\n      <g>\n       <use style=\"stroke:#000000;stroke-width:0.8;\" x=\"33.2875\" xlink:href=\"#mc9d3a03803\" y=\"117.587454\"/>\n      </g>\n     </g>\n     <g id=\"text_9\">\n      <!-- 150 -->\n      <g transform=\"translate(7.2 121.386673)scale(0.1 -0.1)\">\n       <use xlink:href=\"#DejaVuSans-49\"/>\n       <use x=\"63.623047\" xlink:href=\"#DejaVuSans-53\"/>\n       <use x=\"127.246094\" xlink:href=\"#DejaVuSans-48\"/>\n      </g>\n     </g>\n    </g>\n    <g id=\"ytick_5\">\n     <g id=\"line2d_10\">\n      <g>\n       <use style=\"stroke:#000000;stroke-width:0.8;\" x=\"33.2875\" xlink:href=\"#mc9d3a03803\" y=\"153.116866\"/>\n      </g>\n     </g>\n     <g id=\"text_10\">\n      <!-- 200 -->\n      <g transform=\"translate(7.2 156.916085)scale(0.1 -0.1)\">\n       <use xlink:href=\"#DejaVuSans-50\"/>\n       <use x=\"63.623047\" xlink:href=\"#DejaVuSans-48\"/>\n       <use x=\"127.246094\" xlink:href=\"#DejaVuSans-48\"/>\n      </g>\n     </g>\n    </g>\n    <g id=\"ytick_6\">\n     <g id=\"line2d_11\">\n      <g>\n       <use style=\"stroke:#000000;stroke-width:0.8;\" x=\"33.2875\" xlink:href=\"#mc9d3a03803\" y=\"188.646278\"/>\n      </g>\n     </g>\n     <g id=\"text_11\">\n      <!-- 250 -->\n      <g transform=\"translate(7.2 192.445496)scale(0.1 -0.1)\">\n       <use xlink:href=\"#DejaVuSans-50\"/>\n       <use x=\"63.623047\" xlink:href=\"#DejaVuSans-53\"/>\n       <use x=\"127.246094\" xlink:href=\"#DejaVuSans-48\"/>\n      </g>\n     </g>\n    </g>\n    <g id=\"ytick_7\">\n     <g id=\"line2d_12\">\n      <g>\n       <use style=\"stroke:#000000;stroke-width:0.8;\" x=\"33.2875\" xlink:href=\"#mc9d3a03803\" y=\"224.175689\"/>\n      </g>\n     </g>\n     <g id=\"text_12\">\n      <!-- 300 -->\n      <g transform=\"translate(7.2 227.974908)scale(0.1 -0.1)\">\n       <use xlink:href=\"#DejaVuSans-51\"/>\n       <use x=\"63.623047\" xlink:href=\"#DejaVuSans-48\"/>\n       <use x=\"127.246094\" xlink:href=\"#DejaVuSans-48\"/>\n      </g>\n     </g>\n    </g>\n   </g>\n   <g id=\"patch_3\">\n    <path d=\"M 33.2875 228.083925 \nL 33.2875 10.643925 \n\" style=\"fill:none;stroke:#000000;stroke-linecap:square;stroke-linejoin:miter;stroke-width:0.8;\"/>\n   </g>\n   <g id=\"patch_4\">\n    <path d=\"M 355.183971 228.083925 \nL 355.183971 10.643925 \n\" style=\"fill:none;stroke:#000000;stroke-linecap:square;stroke-linejoin:miter;stroke-width:0.8;\"/>\n   </g>\n   <g id=\"patch_5\">\n    <path d=\"M 33.2875 228.083925 \nL 355.183971 228.083925 \n\" style=\"fill:none;stroke:#000000;stroke-linecap:square;stroke-linejoin:miter;stroke-width:0.8;\"/>\n   </g>\n   <g id=\"patch_6\">\n    <path d=\"M 33.2875 10.643925 \nL 355.183971 10.643925 \n\" style=\"fill:none;stroke:#000000;stroke-linecap:square;stroke-linejoin:miter;stroke-width:0.8;\"/>\n   </g>\n  </g>\n </g>\n <defs>\n  <clipPath id=\"p31d57cfaba\">\n   <rect height=\"217.44\" width=\"321.896471\" x=\"33.2875\" y=\"10.643925\"/>\n  </clipPath>\n </defs>\n</svg>\n",
      "image/png": "[encoded data removed]"
     },
     "metadata": {
      "needs_background": "light"
     }
    }
   ],
   "source": [
    "plt.imshow(img)"
   ]
  },
  {
   "cell_type": "code",
   "execution_count": 70,
   "metadata": {},
   "outputs": [
    {
     "output_type": "stream",
     "name": "stdout",
     "text": "轮廓面积与边界矩形比 0.7800798598378357\n"
    }
   ],
   "source": [
    "area = cv2.contourArea(cnt)\n",
    "x, y, w, h = cv2.boundingRect(cnt)\n",
    "rect_area = w * h\n",
    "extent = float(area) / rect_area\n",
    "print ('轮廓面积与边界矩形比',extent)"
   ]
  },
  {
   "cell_type": "markdown",
   "metadata": {},
   "source": [
    "### 外接圆"
   ]
  },
  {
   "cell_type": "code",
   "execution_count": 71,
   "metadata": {},
   "outputs": [],
   "source": [
    "(x,y),radius = cv2.minEnclosingCircle(cnt)\n",
    "center = (int(x), int(y))\n",
    "radius = int(radius)\n",
    "img = img_contours.copy()\n",
    "img = cv2.circle(img,center,radius,(0,255,0),2)\n",
    "cv_show('img',img)\n",
    ""
   ]
  },
  {
   "cell_type": "code",
   "execution_count": 72,
   "metadata": {},
   "outputs": [
    {
     "output_type": "execute_result",
     "data": {
      "text/plain": "<matplotlib.image.AxesImage at 0x127cc22b0>"
     },
     "metadata": {},
     "execution_count": 72
    },
    {
     "output_type": "display_data",
     "data": {
      "text/plain": "<Figure size 432x288 with 1 Axes>",
      "image/svg+xml": "<?xml version=\"1.0\" encoding=\"utf-8\" standalone=\"no\"?>\n<!DOCTYPE svg PUBLIC \"-//W3C//DTD SVG 1.1//EN\"\n  \"http://www.w3.org/Graphics/SVG/1.1/DTD/svg11.dtd\">\n<!-- Created with matplotlib (https://matplotlib.org/) -->\n<svg height=\"251.96205pt\" version=\"1.1\" viewBox=\"0 0 362.383971 251.96205\" width=\"362.383971pt\" xmlns=\"http://www.w3.org/2000/svg\" xmlns:xlink=\"http://www.w3.org/1999/xlink\">\n <defs>\n  <style type=\"text/css\">\n*{stroke-linecap:butt;stroke-linejoin:round;}\n  </style>\n </defs>\n <g id=\"figure_1\">\n  <g id=\"patch_1\">\n   <path d=\"M 0 251.96205 \nL 362.383971 251.96205 \nL 362.383971 0 \nL 0 0 \nz\n\" style=\"fill:none;\"/>\n  </g>\n  <g id=\"axes_1\">\n   <g id=\"patch_2\">\n    <path d=\"M 33.2875 228.083925 \nL 355.183971 228.083925 \nL 355.183971 10.643925 \nL 33.2875 10.643925 \nz\n\" style=\"fill:#ffffff;\"/>\n   </g>\n   <g clip-path=\"url(#p103bca414e)\">\n    <image height=\"218\" id=\"imagea64d8c348c\" transform=\"scale(1 -1)translate(0 -218)\" width=\"322\" x=\"33.2875\" xlink:href=\"data:image/png;base64,\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\" y=\"-10.083925\"/>\n   </g>\n   <g id=\"matplotlib.axis_1\">\n    <g id=\"xtick_1\">\n     <g id=\"line2d_1\">\n      <defs>\n       <path d=\"M 0 0 \nL 0 3.5 \n\" id=\"mc9573dead4\" style=\"stroke:#000000;stroke-width:0.8;\"/>\n      </defs>\n      <g>\n       <use style=\"stroke:#000000;stroke-width:0.8;\" x=\"33.642794\" xlink:href=\"#mc9573dead4\" y=\"228.083925\"/>\n      </g>\n     </g>\n     <g id=\"text_1\">\n      <!-- 0 -->\n      <defs>\n       <path d=\"M 31.78125 66.40625 \nQ 24.171875 66.40625 20.328125 58.90625 \nQ 16.5 51.421875 16.5 36.375 \nQ 16.5 21.390625 20.328125 13.890625 \nQ 24.171875 6.390625 31.78125 6.390625 \nQ 39.453125 6.390625 43.28125 13.890625 \nQ 47.125 21.390625 47.125 36.375 \nQ 47.125 51.421875 43.28125 58.90625 \nQ 39.453125 66.40625 31.78125 66.40625 \nz\nM 31.78125 74.21875 \nQ 44.046875 74.21875 50.515625 64.515625 \nQ 56.984375 54.828125 56.984375 36.375 \nQ 56.984375 17.96875 50.515625 8.265625 \nQ 44.046875 -1.421875 31.78125 -1.421875 \nQ 19.53125 -1.421875 13.0625 8.265625 \nQ 6.59375 17.96875 6.59375 36.375 \nQ 6.59375 54.828125 13.0625 64.515625 \nQ 19.53125 74.21875 31.78125 74.21875 \nz\n\" id=\"DejaVuSans-48\"/>\n      </defs>\n      <g transform=\"translate(30.461544 242.682362)scale(0.1 -0.1)\">\n       <use xlink:href=\"#DejaVuSans-48\"/>\n      </g>\n     </g>\n    </g>\n    <g id=\"xtick_2\">\n     <g id=\"line2d_2\">\n      <g>\n       <use style=\"stroke:#000000;stroke-width:0.8;\" x=\"104.701618\" xlink:href=\"#mc9573dead4\" y=\"228.083925\"/>\n      </g>\n     </g>\n     <g id=\"text_2\">\n      <!-- 100 -->\n      <defs>\n       <path d=\"M 12.40625 8.296875 \nL 28.515625 8.296875 \nL 28.515625 63.921875 \nL 10.984375 60.40625 \nL 10.984375 69.390625 \nL 28.421875 72.90625 \nL 38.28125 72.90625 \nL 38.28125 8.296875 \nL 54.390625 8.296875 \nL 54.390625 0 \nL 12.40625 0 \nz\n\" id=\"DejaVuSans-49\"/>\n      </defs>\n      <g transform=\"translate(95.157868 242.682362)scale(0.1 -0.1)\">\n       <use xlink:href=\"#DejaVuSans-49\"/>\n       <use x=\"63.623047\" xlink:href=\"#DejaVuSans-48\"/>\n       <use x=\"127.246094\" xlink:href=\"#DejaVuSans-48\"/>\n      </g>\n     </g>\n    </g>\n    <g id=\"xtick_3\">\n     <g id=\"line2d_3\">\n      <g>\n       <use style=\"stroke:#000000;stroke-width:0.8;\" x=\"175.760441\" xlink:href=\"#mc9573dead4\" y=\"228.083925\"/>\n      </g>\n     </g>\n     <g id=\"text_3\">\n      <!-- 200 -->\n      <defs>\n       <path d=\"M 19.1875 8.296875 \nL 53.609375 8.296875 \nL 53.609375 0 \nL 7.328125 0 \nL 7.328125 8.296875 \nQ 12.9375 14.109375 22.625 23.890625 \nQ 32.328125 33.6875 34.8125 36.53125 \nQ 39.546875 41.84375 41.421875 45.53125 \nQ 43.3125 49.21875 43.3125 52.78125 \nQ 43.3125 58.59375 39.234375 62.25 \nQ 35.15625 65.921875 28.609375 65.921875 \nQ 23.96875 65.921875 18.8125 64.3125 \nQ 13.671875 62.703125 7.8125 59.421875 \nL 7.8125 69.390625 \nQ 13.765625 71.78125 18.9375 73 \nQ 24.125 74.21875 28.421875 74.21875 \nQ 39.75 74.21875 46.484375 68.546875 \nQ 53.21875 62.890625 53.21875 53.421875 \nQ 53.21875 48.921875 51.53125 44.890625 \nQ 49.859375 40.875 45.40625 35.40625 \nQ 44.1875 33.984375 37.640625 27.21875 \nQ 31.109375 20.453125 19.1875 8.296875 \nz\n\" id=\"DejaVuSans-50\"/>\n      </defs>\n      <g transform=\"translate(166.216691 242.682362)scale(0.1 -0.1)\">\n       <use xlink:href=\"#DejaVuSans-50\"/>\n       <use x=\"63.623047\" xlink:href=\"#DejaVuSans-48\"/>\n       <use x=\"127.246094\" xlink:href=\"#DejaVuSans-48\"/>\n      </g>\n     </g>\n    </g>\n    <g id=\"xtick_4\">\n     <g id=\"line2d_4\">\n      <g>\n       <use style=\"stroke:#000000;stroke-width:0.8;\" x=\"246.819265\" xlink:href=\"#mc9573dead4\" y=\"228.083925\"/>\n      </g>\n     </g>\n     <g id=\"text_4\">\n      <!-- 300 -->\n      <defs>\n       <path d=\"M 40.578125 39.3125 \nQ 47.65625 37.796875 51.625 33 \nQ 55.609375 28.21875 55.609375 21.1875 \nQ 55.609375 10.40625 48.1875 4.484375 \nQ 40.765625 -1.421875 27.09375 -1.421875 \nQ 22.515625 -1.421875 17.65625 -0.515625 \nQ 12.796875 0.390625 7.625 2.203125 \nL 7.625 11.71875 \nQ 11.71875 9.328125 16.59375 8.109375 \nQ 21.484375 6.890625 26.8125 6.890625 \nQ 36.078125 6.890625 40.9375 10.546875 \nQ 45.796875 14.203125 45.796875 21.1875 \nQ 45.796875 27.640625 41.28125 31.265625 \nQ 36.765625 34.90625 28.71875 34.90625 \nL 20.21875 34.90625 \nL 20.21875 43.015625 \nL 29.109375 43.015625 \nQ 36.375 43.015625 40.234375 45.921875 \nQ 44.09375 48.828125 44.09375 54.296875 \nQ 44.09375 59.90625 40.109375 62.90625 \nQ 36.140625 65.921875 28.71875 65.921875 \nQ 24.65625 65.921875 20.015625 65.03125 \nQ 15.375 64.15625 9.8125 62.3125 \nL 9.8125 71.09375 \nQ 15.4375 72.65625 20.34375 73.4375 \nQ 25.25 74.21875 29.59375 74.21875 \nQ 40.828125 74.21875 47.359375 69.109375 \nQ 53.90625 64.015625 53.90625 55.328125 \nQ 53.90625 49.265625 50.4375 45.09375 \nQ 46.96875 40.921875 40.578125 39.3125 \nz\n\" id=\"DejaVuSans-51\"/>\n      </defs>\n      <g transform=\"translate(237.275515 242.682362)scale(0.1 -0.1)\">\n       <use xlink:href=\"#DejaVuSans-51\"/>\n       <use x=\"63.623047\" xlink:href=\"#DejaVuSans-48\"/>\n       <use x=\"127.246094\" xlink:href=\"#DejaVuSans-48\"/>\n      </g>\n     </g>\n    </g>\n    <g id=\"xtick_5\">\n     <g id=\"line2d_5\">\n      <g>\n       <use style=\"stroke:#000000;stroke-width:0.8;\" x=\"317.878088\" xlink:href=\"#mc9573dead4\" y=\"228.083925\"/>\n      </g>\n     </g>\n     <g id=\"text_5\">\n      <!-- 400 -->\n      <defs>\n       <path d=\"M 37.796875 64.3125 \nL 12.890625 25.390625 \nL 37.796875 25.390625 \nz\nM 35.203125 72.90625 \nL 47.609375 72.90625 \nL 47.609375 25.390625 \nL 58.015625 25.390625 \nL 58.015625 17.1875 \nL 47.609375 17.1875 \nL 47.609375 0 \nL 37.796875 0 \nL 37.796875 17.1875 \nL 4.890625 17.1875 \nL 4.890625 26.703125 \nz\n\" id=\"DejaVuSans-52\"/>\n      </defs>\n      <g transform=\"translate(308.334338 242.682362)scale(0.1 -0.1)\">\n       <use xlink:href=\"#DejaVuSans-52\"/>\n       <use x=\"63.623047\" xlink:href=\"#DejaVuSans-48\"/>\n       <use x=\"127.246094\" xlink:href=\"#DejaVuSans-48\"/>\n      </g>\n     </g>\n    </g>\n   </g>\n   <g id=\"matplotlib.axis_2\">\n    <g id=\"ytick_1\">\n     <g id=\"line2d_6\">\n      <defs>\n       <path d=\"M 0 0 \nL -3.5 0 \n\" id=\"mffa6d9f286\" style=\"stroke:#000000;stroke-width:0.8;\"/>\n      </defs>\n      <g>\n       <use style=\"stroke:#000000;stroke-width:0.8;\" x=\"33.2875\" xlink:href=\"#mffa6d9f286\" y=\"10.999219\"/>\n      </g>\n     </g>\n     <g id=\"text_6\">\n      <!-- 0 -->\n      <g transform=\"translate(19.925 14.798437)scale(0.1 -0.1)\">\n       <use xlink:href=\"#DejaVuSans-48\"/>\n      </g>\n     </g>\n    </g>\n    <g id=\"ytick_2\">\n     <g id=\"line2d_7\">\n      <g>\n       <use style=\"stroke:#000000;stroke-width:0.8;\" x=\"33.2875\" xlink:href=\"#mffa6d9f286\" y=\"46.528631\"/>\n      </g>\n     </g>\n     <g id=\"text_7\">\n      <!-- 50 -->\n      <defs>\n       <path d=\"M 10.796875 72.90625 \nL 49.515625 72.90625 \nL 49.515625 64.59375 \nL 19.828125 64.59375 \nL 19.828125 46.734375 \nQ 21.96875 47.46875 24.109375 47.828125 \nQ 26.265625 48.1875 28.421875 48.1875 \nQ 40.625 48.1875 47.75 41.5 \nQ 54.890625 34.8125 54.890625 23.390625 \nQ 54.890625 11.625 47.5625 5.09375 \nQ 40.234375 -1.421875 26.90625 -1.421875 \nQ 22.3125 -1.421875 17.546875 -0.640625 \nQ 12.796875 0.140625 7.71875 1.703125 \nL 7.71875 11.625 \nQ 12.109375 9.234375 16.796875 8.0625 \nQ 21.484375 6.890625 26.703125 6.890625 \nQ 35.15625 6.890625 40.078125 11.328125 \nQ 45.015625 15.765625 45.015625 23.390625 \nQ 45.015625 31 40.078125 35.4375 \nQ 35.15625 39.890625 26.703125 39.890625 \nQ 22.75 39.890625 18.8125 39.015625 \nQ 14.890625 38.140625 10.796875 36.28125 \nz\n\" id=\"DejaVuSans-53\"/>\n      </defs>\n      <g transform=\"translate(13.5625 50.327849)scale(0.1 -0.1)\">\n       <use xlink:href=\"#DejaVuSans-53\"/>\n       <use x=\"63.623047\" xlink:href=\"#DejaVuSans-48\"/>\n      </g>\n     </g>\n    </g>\n    <g id=\"ytick_3\">\n     <g id=\"line2d_8\">\n      <g>\n       <use style=\"stroke:#000000;stroke-width:0.8;\" x=\"33.2875\" xlink:href=\"#mffa6d9f286\" y=\"82.058042\"/>\n      </g>\n     </g>\n     <g id=\"text_8\">\n      <!-- 100 -->\n      <g transform=\"translate(7.2 85.857261)scale(0.1 -0.1)\">\n       <use xlink:href=\"#DejaVuSans-49\"/>\n       <use x=\"63.623047\" xlink:href=\"#DejaVuSans-48\"/>\n       <use x=\"127.246094\" xlink:href=\"#DejaVuSans-48\"/>\n      </g>\n     </g>\n    </g>\n    <g id=\"ytick_4\">\n     <g id=\"line2d_9\">\n      <g>\n       <use style=\"stroke:#000000;stroke-width:0.8;\" x=\"33.2875\" xlink:href=\"#mffa6d9f286\" y=\"117.587454\"/>\n      </g>\n     </g>\n     <g id=\"text_9\">\n      <!-- 150 -->\n      <g transform=\"translate(7.2 121.386673)scale(0.1 -0.1)\">\n       <use xlink:href=\"#DejaVuSans-49\"/>\n       <use x=\"63.623047\" xlink:href=\"#DejaVuSans-53\"/>\n       <use x=\"127.246094\" xlink:href=\"#DejaVuSans-48\"/>\n      </g>\n     </g>\n    </g>\n    <g id=\"ytick_5\">\n     <g id=\"line2d_10\">\n      <g>\n       <use style=\"stroke:#000000;stroke-width:0.8;\" x=\"33.2875\" xlink:href=\"#mffa6d9f286\" y=\"153.116866\"/>\n      </g>\n     </g>\n     <g id=\"text_10\">\n      <!-- 200 -->\n      <g transform=\"translate(7.2 156.916085)scale(0.1 -0.1)\">\n       <use xlink:href=\"#DejaVuSans-50\"/>\n       <use x=\"63.623047\" xlink:href=\"#DejaVuSans-48\"/>\n       <use x=\"127.246094\" xlink:href=\"#DejaVuSans-48\"/>\n      </g>\n     </g>\n    </g>\n    <g id=\"ytick_6\">\n     <g id=\"line2d_11\">\n      <g>\n       <use style=\"stroke:#000000;stroke-width:0.8;\" x=\"33.2875\" xlink:href=\"#mffa6d9f286\" y=\"188.646278\"/>\n      </g>\n     </g>\n     <g id=\"text_11\">\n      <!-- 250 -->\n      <g transform=\"translate(7.2 192.445496)scale(0.1 -0.1)\">\n       <use xlink:href=\"#DejaVuSans-50\"/>\n       <use x=\"63.623047\" xlink:href=\"#DejaVuSans-53\"/>\n       <use x=\"127.246094\" xlink:href=\"#DejaVuSans-48\"/>\n      </g>\n     </g>\n    </g>\n    <g id=\"ytick_7\">\n     <g id=\"line2d_12\">\n      <g>\n       <use style=\"stroke:#000000;stroke-width:0.8;\" x=\"33.2875\" xlink:href=\"#mffa6d9f286\" y=\"224.175689\"/>\n      </g>\n     </g>\n     <g id=\"text_12\">\n      <!-- 300 -->\n      <g transform=\"translate(7.2 227.974908)scale(0.1 -0.1)\">\n       <use xlink:href=\"#DejaVuSans-51\"/>\n       <use x=\"63.623047\" xlink:href=\"#DejaVuSans-48\"/>\n       <use x=\"127.246094\" xlink:href=\"#DejaVuSans-48\"/>\n      </g>\n     </g>\n    </g>\n   </g>\n   <g id=\"patch_3\">\n    <path d=\"M 33.2875 228.083925 \nL 33.2875 10.643925 \n\" style=\"fill:none;stroke:#000000;stroke-linecap:square;stroke-linejoin:miter;stroke-width:0.8;\"/>\n   </g>\n   <g id=\"patch_4\">\n    <path d=\"M 355.183971 228.083925 \nL 355.183971 10.643925 \n\" style=\"fill:none;stroke:#000000;stroke-linecap:square;stroke-linejoin:miter;stroke-width:0.8;\"/>\n   </g>\n   <g id=\"patch_5\">\n    <path d=\"M 33.2875 228.083925 \nL 355.183971 228.083925 \n\" style=\"fill:none;stroke:#000000;stroke-linecap:square;stroke-linejoin:miter;stroke-width:0.8;\"/>\n   </g>\n   <g id=\"patch_6\">\n    <path d=\"M 33.2875 10.643925 \nL 355.183971 10.643925 \n\" style=\"fill:none;stroke:#000000;stroke-linecap:square;stroke-linejoin:miter;stroke-width:0.8;\"/>\n   </g>\n  </g>\n </g>\n <defs>\n  <clipPath id=\"p103bca414e\">\n   <rect height=\"217.44\" width=\"321.896471\" x=\"33.2875\" y=\"10.643925\"/>\n  </clipPath>\n </defs>\n</svg>\n",
      "image/png": "[encoded data removed]"
     },
     "metadata": {
      "needs_background": "light"
     }
    }
   ],
   "source": [
    "plt.imshow(img)"
   ]
  }
 ]
}