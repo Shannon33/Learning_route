{
 "cells": [
  {
   "cell_type": "markdown",
   "metadata": {},
   "source": [
    "### 图像处理的基本操作"
   ]
  },
  {
   "cell_type": "code",
   "execution_count": 8,
   "metadata": {},
   "outputs": [],
   "source": [
    "import cv2 #opencv读取的格式是BGR\n",
    "import matplotlib.pyplot as plt\n",
    "import numpy as np \n",
    "%matplotlib inline \n",
    "\n",
    "img=cv2.imread('dog_1.jpeg')"
   ]
  },
  {
   "cell_type": "code",
   "execution_count": 9,
   "metadata": {},
   "outputs": [
    {
     "output_type": "execute_result",
     "data": {
      "text/plain": "array([[[175, 201, 177],\n        [169, 198, 173],\n        [165, 194, 169],\n        ...,\n        [229, 221, 214],\n        [229, 221, 214],\n        [229, 221, 214]],\n\n       [[174, 200, 176],\n        [169, 198, 173],\n        [163, 193, 168],\n        ...,\n        [229, 221, 214],\n        [229, 221, 214],\n        [229, 221, 214]],\n\n       [[172, 200, 177],\n        [168, 196, 173],\n        [162, 191, 168],\n        ...,\n        [229, 221, 214],\n        [229, 221, 214],\n        [229, 221, 214]],\n\n       ...,\n\n       [[ 89, 185, 125],\n        [ 90, 184, 125],\n        [ 90, 184, 125],\n        ...,\n        [ 92, 161,  94],\n        [ 97, 166,  99],\n        [101, 170, 103]],\n\n       [[ 89, 185, 125],\n        [ 89, 185, 125],\n        [ 89, 185, 125],\n        ...,\n        [ 92, 161,  94],\n        [ 97, 166,  99],\n        [101, 170, 103]],\n\n       [[ 87, 185, 125],\n        [ 87, 185, 125],\n        [ 87, 183, 123],\n        ...,\n        [ 92, 161,  94],\n        [ 92, 163,  96],\n        [ 92, 163,  96]]], dtype=uint8)"
     },
     "metadata": {},
     "execution_count": 9
    }
   ],
   "source": [
    "img"
   ]
  },
  {
   "cell_type": "code",
   "execution_count": 10,
   "metadata": {},
   "outputs": [],
   "source": [
    "#图像的显示,也可以创建多个窗口\n",
    "cv2.imshow('image',img) \n",
    "# 等待时间，毫秒级，0表示任意键终止\n",
    "cv2.waitKey(10000) \n",
    "cv2.destroyAllWindows()"
   ]
  },
  {
   "cell_type": "code",
   "execution_count": 11,
   "metadata": {},
   "outputs": [],
   "source": [
    "def cv_show(name,image):\n",
    "    cv2.imshow(name,image)\n",
    "    cv2.waitKey(0)\n",
    "    cv2.destroyAllWindows()"
   ]
  },
  {
   "cell_type": "code",
   "execution_count": 12,
   "metadata": {},
   "outputs": [
    {
     "output_type": "execute_result",
     "data": {
      "text/plain": "(681, 1136, 3)"
     },
     "metadata": {},
     "execution_count": 12
    }
   ],
   "source": [
    "img.shape"
   ]
  },
  {
   "cell_type": "markdown",
   "metadata": {},
   "source": [
    "cv2.IMREAD_COLOR：彩色图像  \n",
    "cv2.IMREAD_GRAYSCALE：灰度图像"
   ]
  },
  {
   "cell_type": "code",
   "execution_count": 13,
   "metadata": {},
   "outputs": [
    {
     "output_type": "execute_result",
     "data": {
      "text/plain": "array([[ 21,  48,  61, ...,  10,  11,  13],\n       [ 34,  50,  56, ...,  15,  16,  18],\n       [ 47,  50,  51, ...,  17,  19,  20],\n       ...,\n       [169, 167, 166, ...,  87,  95,  99],\n       [163, 163, 164, ..., 109, 120, 127],\n       [158, 160, 163, ..., 130, 142, 151]], dtype=uint8)"
     },
     "metadata": {},
     "execution_count": 13
    }
   ],
   "source": [
    "image = cv2.imread('dog_2.jpeg',cv2.IMREAD_GRAYSCALE)\n",
    "image"
   ]
  },
  {
   "cell_type": "code",
   "execution_count": 14,
   "metadata": {},
   "outputs": [
    {
     "output_type": "execute_result",
     "data": {
      "text/plain": "(646, 700)"
     },
     "metadata": {},
     "execution_count": 14
    }
   ],
   "source": [
    "image.shape"
   ]
  },
  {
   "cell_type": "code",
   "execution_count": null,
   "metadata": {},
   "outputs": [],
   "source": []
  }
 ],
 "metadata": {
  "file_extension": ".py",
  "kernelspec": {
   "display_name": "Python 3.7.3 64-bit ('base': conda)",
   "language": "python",
   "name": "python37364bitbasecondab5b25723510643d9aca68008a9d5917f"
  },
  "language_info": {
   "codemirror_mode": {
    "name": "ipython",
    "version": 3
   },
   "file_extension": ".py",
   "mimetype": "text/x-python",
   "name": "python",
   "nbconvert_exporter": "python",
   "pygments_lexer": "ipython3",
   "version": "3.7.3-final"
  },
  "mimetype": "text/x-python",
  "name": "python",
  "npconvert_exporter": "python",
  "pygments_lexer": "ipython3",
  "toc": {
   "base_numbering": 1,
   "nav_menu": {},
   "number_sections": true,
   "sideBar": true,
   "skip_h1_title": false,
   "title_cell": "Table of Contents",
   "title_sidebar": "Contents",
   "toc_cell": false,
   "toc_position": {},
   "toc_section_display": true,
   "toc_window_display": false
  },
  "version": 3
 },
 "nbformat": 4,
 "nbformat_minor": 2
}