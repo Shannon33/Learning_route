{
 "cells": [
  {
   "cell_type": "markdown",
   "metadata": {},
   "source": [
    "### 图像处理的基本操作"
   ]
  },
  {
   "cell_type": "code",
   "execution_count": 1,
   "metadata": {},
   "outputs": [],
   "source": [
    "import cv2 #opencv读取的格式是BGR\n",
    "import matplotlib.pyplot as plt\n",
    "import numpy as np \n",
    "%matplotlib inline \n",
    "\n",
    "img=cv2.imread('dog_1.jpeg')"
   ]
  },
  {
   "cell_type": "code",
   "execution_count": 2,
   "metadata": {},
   "outputs": [
    {
     "data": {
      "text/plain": [
       "array([[[175, 201, 177],\n",
       "        [169, 198, 173],\n",
       "        [165, 194, 169],\n",
       "        ...,\n",
       "        [229, 221, 214],\n",
       "        [229, 221, 214],\n",
       "        [229, 221, 214]],\n",
       "\n",
       "       [[174, 200, 176],\n",
       "        [169, 198, 173],\n",
       "        [163, 193, 168],\n",
       "        ...,\n",
       "        [229, 221, 214],\n",
       "        [229, 221, 214],\n",
       "        [229, 221, 214]],\n",
       "\n",
       "       [[172, 200, 177],\n",
       "        [168, 196, 173],\n",
       "        [162, 191, 168],\n",
       "        ...,\n",
       "        [229, 221, 214],\n",
       "        [229, 221, 214],\n",
       "        [229, 221, 214]],\n",
       "\n",
       "       ...,\n",
       "\n",
       "       [[ 89, 185, 125],\n",
       "        [ 90, 184, 125],\n",
       "        [ 90, 184, 125],\n",
       "        ...,\n",
       "        [ 92, 161,  94],\n",
       "        [ 97, 166,  99],\n",
       "        [101, 170, 103]],\n",
       "\n",
       "       [[ 89, 185, 125],\n",
       "        [ 89, 185, 125],\n",
       "        [ 89, 185, 125],\n",
       "        ...,\n",
       "        [ 92, 161,  94],\n",
       "        [ 97, 166,  99],\n",
       "        [101, 170, 103]],\n",
       "\n",
       "       [[ 87, 185, 125],\n",
       "        [ 87, 185, 125],\n",
       "        [ 87, 183, 123],\n",
       "        ...,\n",
       "        [ 92, 161,  94],\n",
       "        [ 92, 163,  96],\n",
       "        [ 92, 163,  96]]], dtype=uint8)"
      ]
     },
     "execution_count": 2,
     "metadata": {},
     "output_type": "execute_result"
    }
   ],
   "source": [
    "img"
   ]
  },
  {
   "cell_type": "code",
   "execution_count": null,
   "metadata": {},
   "outputs": [],
   "source": [
    "#图像的显示,也可以创建多个窗口\n",
    "cv2.imshow('image',img) \n",
    "# 等待时间，毫秒级，0表示任意键终止\n",
    "cv2.waitKey(10000) \n",
    "cv2.destroyAllWindows()"
   ]
  },
  {
   "cell_type": "code",
   "execution_count": null,
   "metadata": {},
   "outputs": [],
   "source": []
  }
 ],
 "metadata": {
  "file_extension": ".py",
  "kernelspec": {
   "display_name": "Python 3.7.3 64-bit ('base': conda)",
   "language": "python",
   "name": "python37364bitbasecondab5b25723510643d9aca68008a9d5917f"
  },
  "language_info": {
   "codemirror_mode": {
    "name": "ipython",
    "version": 3
   },
   "file_extension": ".py",
   "mimetype": "text/x-python",
   "name": "python",
   "nbconvert_exporter": "python",
   "pygments_lexer": "ipython3",
   "version": "3.7.3"
  },
  "mimetype": "text/x-python",
  "name": "python",
  "npconvert_exporter": "python",
  "pygments_lexer": "ipython3",
  "toc": {
   "base_numbering": 1,
   "nav_menu": {},
   "number_sections": true,
   "sideBar": true,
   "skip_h1_title": false,
   "title_cell": "Table of Contents",
   "title_sidebar": "Contents",
   "toc_cell": false,
   "toc_position": {},
   "toc_section_display": true,
   "toc_window_display": false
  },
  "version": 3
 },
 "nbformat": 4,
 "nbformat_minor": 2
}
