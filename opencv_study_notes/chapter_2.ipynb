{
 "cells": [
  {
   "cell_type": "markdown",
   "metadata": {},
   "source": [
    "读入图像  \n",
    "使用函数cv2.imread(filepath,flags)读入一副图片  \n",
    "filepath：要读入图片的完整路径\n",
    "flags：读入图片的标志  \n",
    "---cv2.IMREAD_COLOR：默认参数，读入一副彩色图片，忽略alpha通道  \n",
    "---cv2.IMREAD_GRAYSCALE：读入灰度图片  \n",
    "---cv2.IMREAD_UNCHANGED：顾名思义，读入完整图片，包括alpha通道  \n",
    "显示图像  \n",
    "使用函数cv2.imshow(wname,img)显示图像，第一个参数是显示图像的窗口的名字，第二个参数是要显示的图像（imread读入的图像），窗口大小自动调整为图片大小  \n",
    "保存图像  \n",
    "使用函数cv2.imwrite(file，img，num)保存一个图像。第一个参数是要保存的文件名，第二个参数是要保存的图像。"
   ]
  },
  {
   "cell_type": "code",
   "execution_count": 1,
   "metadata": {},
   "outputs": [],
   "source": [
    "import numpy as np\n",
    "import cv2\n",
    "\n",
    "\n",
    "img = cv2.imread('imori.jpg')\n",
    "\n",
    "cv2.imshow('image',img)\n",
    "k = cv2.waitKey(0)\n",
    "if k== 27:\n",
    "    cv2.destroyAllWindows()\n",
    "elif k == ord('s'):\n",
    "    cv2.imwrite('color.jpg',img)\n",
    "    cv2.destroyAllWindows()"
   ]
  },
  {
   "cell_type": "markdown",
   "metadata": {},
   "source": [
    "2.1 基本I/O脚本  \n",
    "读写图像文件  \n",
    "用numpy和python 表示一幅图像的细节  \n",
    "img.shape #返回行列，如果超过一个通道会返回通道数"
   ]
  },
  {
   "cell_type": "code",
   "execution_count": 2,
   "metadata": {},
   "outputs": [
    {
     "name": "stdout",
     "output_type": "stream",
     "text": [
      "[[0 0 0]\n",
      " [0 0 0]\n",
      " [0 0 0]] (3, 3)\n"
     ]
    }
   ],
   "source": [
    "import numpy as np\n",
    "import cv2\n",
    "img = np.zeros((3,3), dtype=np.uint8)#黑色的正方形图像\n",
    "print(img,img.shape)"
   ]
  },
  {
   "cell_type": "markdown",
   "metadata": {},
   "source": [
    "灰度图-RGB图相互转换  \n",
    "img_gray = cv2.cvtColor(img, cv2.COLOR_BGR2GRAY)    # BGR转灰度  \n",
    "img_bgr = cv2.cvtColor(img_gray, cv2.COLOR_GRAY2BGR)    # 灰度转BRG  \n",
    "img_rgb = cv2.cvtColor(img_gray, cv2.COLOR_GRAY2RGB)    # 也可以灰度转RGB"
   ]
  },
  {
   "cell_type": "code",
   "execution_count": 3,
   "metadata": {},
   "outputs": [
    {
     "name": "stdout",
     "output_type": "stream",
     "text": [
      "[[[0 0 0]\n",
      "  [0 0 0]\n",
      "  [0 0 0]]\n",
      "\n",
      " [[0 0 0]\n",
      "  [0 0 0]\n",
      "  [0 0 0]]\n",
      "\n",
      " [[0 0 0]\n",
      "  [0 0 0]\n",
      "  [0 0 0]]] (3, 3, 3)\n"
     ]
    }
   ],
   "source": [
    "img = cv2.cvtColor(img, cv2.COLOR_GRAY2BGR)\n",
    "cv2.imwrite('black.jpg',img)  #保存下来，只有小小的黑色方块\n",
    "print(img,img.shape)"
   ]
  },
  {
   "cell_type": "markdown",
   "metadata": {},
   "source": [
    "读取图片，保存成另外的格式"
   ]
  },
  {
   "cell_type": "code",
   "execution_count": 4,
   "metadata": {},
   "outputs": [
    {
     "data": {
      "text/plain": [
       "True"
      ]
     },
     "execution_count": 4,
     "metadata": {},
     "output_type": "execute_result"
    }
   ],
   "source": [
    "img = cv2.imread('imori.jpg')\n",
    "cv2.imwrite('img.png',img)"
   ]
  },
  {
   "cell_type": "markdown",
   "metadata": {},
   "source": [
    " imread()函数的参数:  \n",
    " IMREAD_ANYCOLOR = 4  \n",
    " IMREAD_ANYDEPATH = 2  \n",
    " IMREAD_COLOR = 1  \n",
    " IMREAD_GRAYSCALE = 0  \n",
    " IMREAD_LOAD_GDAL = 8    \n",
    " IMREAD_UNCHANGED = -1\n",
    " "
   ]
  },
  {
   "cell_type": "code",
   "execution_count": 5,
   "metadata": {},
   "outputs": [
    {
     "data": {
      "text/plain": [
       "True"
      ]
     },
     "execution_count": 5,
     "metadata": {},
     "output_type": "execute_result"
    }
   ],
   "source": [
    "#h灰度读入，保存\n",
    "grayimg = cv2.imread('img.png',cv2.IMREAD_GRAYSCALE)\n",
    "cv2.imwrite('gray.png',grayimg)"
   ]
  },
  {
   "cell_type": "markdown",
   "metadata": {},
   "source": [
    "图像与原始字节之间的转换  \n",
    "  \n",
    "一个OpenCV图像一般是numpy.array类型的二维或者三维数组。8位的灰度图像是一个含有字节值的二维数组，维度为 height x width，24位的BGR是一个三维数组 维度为[ height, width, channel ]"
   ]
  },
  {
   "cell_type": "code",
   "execution_count": 12,
   "metadata": {},
   "outputs": [
    {
     "name": "stdout",
     "output_type": "stream",
     "text": [
      "图像img的纬度是(936, 1248, 3)\n",
      "转换之后的图像的纬度是{} 3504384 <class 'bytearray'>\n"
     ]
    },
    {
     "data": {
      "text/plain": [
       "True"
      ]
     },
     "execution_count": 12,
     "metadata": {},
     "output_type": "execute_result"
    }
   ],
   "source": [
    "img = cv2.imread('imori.jpg')\n",
    "print('图像{}的纬度是{}'.format('img',img.shape))\n",
    "#显示转换为标准的一维python bytearray格式\n",
    "byte_array = bytearray(img)\n",
    "print('转换之后的图像的纬度是{}',len(byte_array),type(byte_array))\n",
    "\n",
    "#bytearray含有恰当顺序的字节，可以通过显示转换和重构 得到numpy.array形式的图像\n",
    "img2 = np.array(byte_array).reshape(936,1248,3)\n",
    "cv2.imwrite('reshape.jpg',img2)"
   ]
  },
  {
   "cell_type": "code",
   "execution_count": 15,
   "metadata": {},
   "outputs": [
    {
     "data": {
      "text/plain": [
       "True"
      ]
     },
     "execution_count": 15,
     "metadata": {},
     "output_type": "execute_result"
    }
   ],
   "source": [
    "'''\n",
    "一个详细的例子 将含有随机字节的bytearray转换为灰度图像和BGR图像\n",
    "'''\n",
    "import cv2\n",
    "import numpy\n",
    "import os\n",
    "#随机生成120000个字节的数组\n",
    "random_byte_array = bytearray(os.urandom(120000))\n",
    "#转换成numpy.array类型\n",
    "byte_array = np.asarray(random_byte_array,dtype = numpy.uint8)\n",
    "#把数组转换成 400* 300的灰度图像\n",
    "gray_image = byte_array.reshape(400,300)\n",
    "cv2.imwrite('test_gray.png',gray_image)\n",
    "#把数组转换成400*100的BGR图像\n",
    "bgr_image = byte_array.reshape(100,400,3)\n",
    "cv2.imwrite('test_bgr.png',bgr_image)\n",
    "#运行后随机生成两个图片，可以观察"
   ]
  },
  {
   "cell_type": "markdown",
   "metadata": {},
   "source": [
    "使用numpy.array访问图像数据"
   ]
  },
  {
   "cell_type": "code",
   "execution_count": 25,
   "metadata": {},
   "outputs": [
    {
     "name": "stdout",
     "output_type": "stream",
     "text": [
      "[189 159 188]\n",
      "33\n",
      "255 \n",
      "------\n",
      "(936, 1248, 3) 3504384 uint8\n"
     ]
    }
   ],
   "source": [
    "#将BGR图像在(0,0)处的像素转化为白像素\n",
    "img = cv2.imread('imori.jpg')\n",
    "print(img[0,0])\n",
    "img[0,0] = [255,255,255]\n",
    "cv2.imwrite('white_point.jpg',img)\n",
    "\n",
    "#numpy.array的item(n_hight,n_width,n_channel)方法可以获取指定索引的值  通道BGR依次对应索引0,1,2\n",
    "\n",
    "print(img.item(100,200,0))#获取100行200列B通道的值\n",
    "img.itemset((100,200,0), 255)#设置新值\n",
    "print(img.item(100,200,0),'\\n------')\n",
    "\n",
    "#将指定通道的所有值置0\n",
    "img[:,:,1] = 1\n",
    "cv2.imwrite('no_green.jpg',img)#打开路径下的图片观察一下\n",
    "\n",
    "#设定感兴趣的区域（Region Of Interest，ROI）\n",
    "#将该区域与变量绑定，设定第二个区域，并将第一个区域的值分配给第二个区域\n",
    "#（(将图像一部分拷贝到图像另一部分)）\n",
    "img = cv2.imread('imori.jpg')\n",
    "roi = img[100:300,300:500]\n",
    "img[300:500,100:300] = roi\n",
    "cv2.imwrite('roi_test.jpg',img)\n",
    "#图像的高度，宽度，和通道数   图像的大小  图像的数据类型\n",
    "print(img.shape,img.size,img.dtype)\n",
    "\n"
   ]
  },
  {
   "cell_type": "markdown",
   "metadata": {},
   "source": [
    "视频文件的读/写  \n",
    "OpenCV提供了VideoCapture类和VideoWriter类来支持各种格式的视频文件。支持的格式类型会因系统的不同而变化，但是都支持avi格式，在到达视频文件末尾之前，VideoCapture可通过read()函数来获取新的帧，每一帧都是一幅基于BGR的图像。VideoWriter可以通过write()写入每一帧图像。"
   ]
  },
  {
   "cell_type": "code",
   "execution_count": 8,
   "metadata": {},
   "outputs": [
    {
     "name": "stdout",
     "output_type": "stream",
     "text": [
      "该视频的帧速率为： 30.0\n",
      "该视频每一帧的大小为： (1920, 1080)\n"
     ]
    },
    {
     "ename": "KeyboardInterrupt",
     "evalue": "",
     "output_type": "error",
     "traceback": [
      "\u001b[0;31m---------------------------------------------------------------------------\u001b[0m",
      "\u001b[0;31mKeyboardInterrupt\u001b[0m                         Traceback (most recent call last)",
      "\u001b[0;32m<ipython-input-8-32206dabbd75>\u001b[0m in \u001b[0;36m<module>\u001b[0;34m\u001b[0m\n\u001b[1;32m     17\u001b[0m \u001b[0;32mwhile\u001b[0m \u001b[0msuccess\u001b[0m\u001b[0;34m:\u001b[0m\u001b[0;34m\u001b[0m\u001b[0;34m\u001b[0m\u001b[0m\n\u001b[1;32m     18\u001b[0m     \u001b[0mvideo_writer\u001b[0m\u001b[0;34m.\u001b[0m\u001b[0mwrite\u001b[0m\u001b[0;34m(\u001b[0m\u001b[0mframe\u001b[0m\u001b[0;34m)\u001b[0m\u001b[0;34m\u001b[0m\u001b[0;34m\u001b[0m\u001b[0m\n\u001b[0;32m---> 19\u001b[0;31m     \u001b[0msucess\u001b[0m\u001b[0;34m,\u001b[0m\u001b[0mframe\u001b[0m \u001b[0;34m=\u001b[0m \u001b[0mvideo_capture\u001b[0m\u001b[0;34m.\u001b[0m\u001b[0mread\u001b[0m\u001b[0;34m(\u001b[0m\u001b[0;34m)\u001b[0m\u001b[0;34m\u001b[0m\u001b[0;34m\u001b[0m\u001b[0m\n\u001b[0m\u001b[1;32m     20\u001b[0m \u001b[0mvideo_writer\u001b[0m\u001b[0;34m.\u001b[0m\u001b[0mrelease\u001b[0m\u001b[0;34m(\u001b[0m\u001b[0;34m)\u001b[0m\u001b[0;34m\u001b[0m\u001b[0;34m\u001b[0m\u001b[0m\n\u001b[1;32m     21\u001b[0m \u001b[0mvideo_capture\u001b[0m\u001b[0;34m.\u001b[0m\u001b[0mrelease\u001b[0m\u001b[0;34m(\u001b[0m\u001b[0;34m)\u001b[0m\u001b[0;34m\u001b[0m\u001b[0;34m\u001b[0m\u001b[0m\n",
      "\u001b[0;31mKeyboardInterrupt\u001b[0m: "
     ]
    }
   ],
   "source": [
    "import cv2\n",
    "video_capture = cv2.VideoCapture('test_video.mp4')\n",
    "#获取帧速率\n",
    "fps = video_capture.get(cv2.CAP_PROP_FPS)\n",
    "print('该视频的帧速率为：',fps)\n",
    "\n",
    "#获取图片的宽和高\n",
    "size = (int(video_capture.get(cv2.CAP_PROP_FRAME_WIDTH)),int(video_capture.get(cv2.CAP_PROP_FRAME_HEIGHT)))\n",
    "print('该视频每一帧的大小为：',size)\n",
    "\n",
    "#1VideoWriter类的构造函数指定视频文件名，这个文件名对应的文件若存在，则会被覆盖\n",
    "#2需要指定编解码器  3帧速率  4帧大小\n",
    "video_writer = cv2.VideoWriter('myoutputvid.avi',cv2.VideoWriter_fourcc('m','p','4','v'),fps,size)\n",
    "success,frame = video_capture.read()\n",
    "cv2.imwrite('frame.jpg',frame)\n",
    "#读取帧，知道没有帧可以读取\n",
    "while success:\n",
    "    video_writer.write(frame)\n",
    "    sucess,frame = video_capture.read()\n",
    "video_writer.release()\n",
    "video_capture.release()\n",
    "print('结束')"
   ]
  },
  {
   "cell_type": "markdown",
   "metadata": {},
   "source": [
    "---------------  \n",
    "捕获摄像头的帧,并保存视频文件  \n",
    "\n",
    "VedioCapture类可以获得摄像头的帧流，但对于摄像头而言，通常不是用视频的文件名来构造VideoCapture类， 而是需要传递摄像头的设备索引(device index)，VideoCapture类对象的get方法不能返回摄像头帧速率的准确值，它总是返回0。"
   ]
  },
  {
   "cell_type": "code",
   "execution_count": 7,
   "metadata": {},
   "outputs": [],
   "source": [
    "#获取摄像头10s的视频信息，并将其写入一个avi文件中\n",
    "#(用其他ide运行看结果会比较好)\n",
    "import cv2\n",
    "camera_capture = cv2.VideoCapture(0)\n",
    "fps = 30\n",
    "size = (int(camera_capture.get(cv2.CAP_PROP_FRAME_WIDTH)),int(camera_capture.get(cv2.CAP_PROP_FRAME_HEIGHT)))\n",
    "\n",
    "video_writer = cv2.VideoWriter('camera.mp4',cv2.VideoWriter_fourcc('m','p','4','v'),fps,size)\n",
    "success,frame = camera_capture.read()\n",
    "num_frame_remaining = 10*fps -1   #当前剩余捕获图片个数\n",
    "while success and num_frame_remaining >0 :\n",
    "    #写入一帧\n",
    "    video_writer.write(frame)\n",
    "    #读取一帧\n",
    "    success,frame = camera_capture.read()\n",
    "    num_frame_remaining -= 1\n",
    "camera_capture.release()\n",
    "video_writer.release()"
   ]
  },
  {
   "cell_type": "markdown",
   "metadata": {},
   "source": [
    "在窗口显示图像  \n",
    "imshow()函数可以用来实现图片，但是这个图片显示出来后会立即消失，一般我们需要使用waitKey()函数,\n",
    "传入等待键盘触发的时间，单位为ms，返回值为-1(表示没有键按下)或者ASCII码。并且需要调用destoryAllWindows()\n",
    "释放OpenCV创建的所有窗口"
   ]
  },
  {
   "cell_type": "code",
   "execution_count": 9,
   "metadata": {},
   "outputs": [],
   "source": [
    "import cv2\n",
    "import numpy as np\n",
    "img = cv2.imread('imori.jpg')\n",
    "cv2.imshow('my image',img)\n",
    "cv2.waitKey(10)\n",
    "cv2.destroyAllWindows()"
   ]
  },
  {
   "cell_type": "markdown",
   "metadata": {},
   "source": [
    "在窗口显示摄像头帧  \n",
    "nameWindow()、imshow()、DestroyWindow()函数允许通过指定窗口名来创建、显示和销毁窗口。  \n"
   ]
  },
  {
   "cell_type": "code",
   "execution_count": 8,
   "metadata": {},
   "outputs": [
    {
     "name": "stdout",
     "output_type": "stream",
     "text": [
      "Showing camera feed.Click window or press any key to stop\n"
     ]
    }
   ],
   "source": [
    "import cv2\n",
    "\n",
    "clicked = False\n",
    "def on_mouse(event, x, y, flags, param):\n",
    "    '''\n",
    "    #鼠标事件的回调函数\n",
    "    \n",
    "    args:\n",
    "        event:回调事件参数，有很多取值，分别对应不同的鼠标事件\n",
    "        param:可选参数，它是setMouseCallback()函数的第三个参数 默认为0\n",
    "        flag：标志参数 如 cv2.EVENT_FLAG_LBUTTON：该事件对应按下鼠标左键\n",
    "        x,y：鼠标坐标\n",
    "    '''\n",
    "    global clicked\n",
    "    #左键松开\n",
    "    if event == cv2.EVENT_LBUTTONUP:\n",
    "        clicked = True\n",
    "camera_capture = cv2.VideoCapture(0)\n",
    "#指定窗口名来创建窗口\n",
    "cv2.namedWindow('mywindow')\n",
    "#设置鼠标事件回调函数，来获取鼠标输入\n",
    "cv2.setMouseCallback('mywindow',on_mouse)\n",
    "print('Showing camera feed.Click window or press any key to stop')\n",
    "success,frame = camera_capture.read()\n",
    "#OpenCV窗口只有在调用cv2.waitKey()函数时才会更新，并且waitKey()函数只有在OpenCV窗口成为活动窗口时，才能捕获输入信息\n",
    "while success and cv2.waitKey(1) == -1 and not clicked:\n",
    "    cv2.imshow('mywindow',frame)\n",
    "    success,frame = camera_capture.read()\n",
    "\n",
    "\n",
    "cv2.destroyWindow('mywindow')      #销毁所有窗口\n",
    "\n",
    "camera_capture.release()\n"
   ]
  },
  {
   "cell_type": "code",
   "execution_count": null,
   "metadata": {},
   "outputs": [],
   "source": []
  }
 ],
 "metadata": {
  "kernelspec": {
   "display_name": "Python 3",
   "language": "python",
   "name": "python3"
  },
  "language_info": {
   "codemirror_mode": {
    "name": "ipython",
    "version": 3
   },
   "file_extension": ".py",
   "mimetype": "text/x-python",
   "name": "python",
   "nbconvert_exporter": "python",
   "pygments_lexer": "ipython3",
   "version": "3.7.3"
  }
 },
 "nbformat": 4,
 "nbformat_minor": 2
}
