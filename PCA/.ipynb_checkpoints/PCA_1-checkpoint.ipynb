{
 "cells": [
  {
   "cell_type": "markdown",
   "metadata": {},
   "source": [
    "### 鸢尾花数据集的降维分析"
   ]
  },
  {
   "cell_type": "code",
   "execution_count": 1,
   "metadata": {},
   "outputs": [],
   "source": [
    "#先导入包（鸢尾花数据集在sklearn.datasets里面）\n",
    "import numpy as np \n",
    "import pandas as pd \n",
    "import matplotlib.pyplot as plt \n",
    " \n",
    "from sklearn.datasets import load_iris\n",
    "from sklearn.preprocessing import StandardScaler\n"
   ]
  },
  {
   "cell_type": "markdown",
   "metadata": {},
   "source": [
    "fit_transform(X) \n",
    "计算数据的均值和方差，并给予计算出来的均值和方差来转换数据，从而把数据转换成标准的正态分布"
   ]
  },
  {
   "cell_type": "code",
   "execution_count": 2,
   "metadata": {},
   "outputs": [
    {
     "data": {
      "text/plain": [
       "array([-1.69031455e-15, -1.84297022e-15, -1.69864123e-15, -1.40924309e-15])"
      ]
     },
     "execution_count": 2,
     "metadata": {},
     "output_type": "execute_result"
    }
   ],
   "source": [
    "#导入数据，并把它进行归一化\n",
    "iris = load_iris()\n",
    "X = iris.data       #X.shape = (150, 4)\n",
    "\n",
    "#X的归一化 x= (x-u)/sigma\n",
    "X_norm = StandardScaler().fit_transform(X) \n",
    "X_norm.mean(axis=0)     #每一维均值为0 ,方差std为1"
   ]
  },
  {
   "cell_type": "code",
   "execution_count": 3,
   "metadata": {},
   "outputs": [
    {
     "data": {
      "text/plain": [
       "array([-1.69031455e-15, -1.84297022e-15, -1.69864123e-15, -1.40924309e-15])"
      ]
     },
     "execution_count": 3,
     "metadata": {},
     "output_type": "execute_result"
    }
   ],
   "source": [
    "def featureNormalizse(x):\n",
    "    mean = x.mean(axis=0)\n",
    "    std = x.std(axis=0)\n",
    "    return (x-mean)/std, mean, std\n",
    "x_norm, means, stds = featureNormalizse(X)\n",
    "x_norm.mean(axis=0)"
   ]
  },
  {
   "cell_type": "markdown",
   "metadata": {},
   "source": [
    "函数：numpy.linalg.eig(a)\n",
    "\n",
    "参数:a：想要计算奇异值和右奇异值的方阵。  \n",
    "返回值：w：特征值。每个特征值根据它的多重性重复。这个数组将是复杂类型，除非虚数部分为0。当传进的参数a是实数时，得到的特征值是实数。v：特征向量。"
   ]
  },
  {
   "cell_type": "code",
   "execution_count": 4,
   "metadata": {},
   "outputs": [
    {
     "data": {
      "text/plain": [
       "(4, 4)"
      ]
     },
     "execution_count": 4,
     "metadata": {},
     "output_type": "execute_result"
    }
   ],
   "source": [
    "#用PCA降维过程\n",
    "#求特征值和特征向量\n",
    "ew, ev = np.linalg.eig(np.cov(X_norm.T))    #np.cov直接求协方差矩阵，每一行代表一个特征\n",
    "\n",
    "# 特征向量特征值的排序\n",
    "#argsort函数返回书组织从小到大的索引值，array[::-1]倒序输出，即从大到小输出索引值\n",
    "ew_order = np.argsort(ew)[::-1] \n",
    "ew_sort = ew[ew_order]   # ew_order--->[0 1 2 3]\n",
    "ev_sort = ev[:, ew_order]\n",
    "ev_sort.shape"
   ]
  },
  {
   "cell_type": "code",
   "execution_count": 5,
   "metadata": {},
   "outputs": [],
   "source": [
    "#指定k，此处k=2,取出排序后的特征向量的前两列就是基\n",
    "K = 2\n",
    "V = ev_sort[:, :2]   #最大的k个值对应的特征向量\n",
    "\n",
    "#最后，得到降维后的数据\n",
    "X_new = X_norm.dot(V)"
   ]
  },
  {
   "cell_type": "code",
   "execution_count": 6,
   "metadata": {},
   "outputs": [
    {
     "data": {
      "image/png": "[encoded data removed]",
      "text/plain": [
       "<Figure size 432x288 with 1 Axes>"
      ]
     },
     "metadata": {
      "needs_background": "light"
     },
     "output_type": "display_data"
    }
   ],
   "source": [
    "#可视化一下X_new\n",
    "clors = ['red','black','orange']\n",
    "\n",
    "plt.figure()\n",
    "for i in [0, 1, 2]:\n",
    "    plt.scatter(X_new[iris.target ==i,0],\n",
    "                X_new[iris.target==i, 1],\n",
    "                alpha=0.7,\n",
    "                c=clors[i],\n",
    "                label=iris.target_names[i])\n",
    "plt.legend()\n",
    "plt.title('PCA of IRIS dataset')\n",
    "plt.xlabel('PC_0')\n",
    "plt.ylabel('PC_1')\n",
    "plt.show()"
   ]
  },
  {
   "cell_type": "code",
   "execution_count": null,
   "metadata": {},
   "outputs": [],
   "source": []
  }
 ],
 "metadata": {
  "file_extension": ".py",
  "kernelspec": {
   "display_name": "Python 3.7.3 64-bit ('base': conda)",
   "language": "python",
   "name": "python37364bitbasecondab5b25723510643d9aca68008a9d5917f"
  },
  "language_info": {
   "codemirror_mode": {
    "name": "ipython",
    "version": 3
   },
   "file_extension": ".py",
   "mimetype": "text/x-python",
   "name": "python",
   "nbconvert_exporter": "python",
   "pygments_lexer": "ipython3",
   "version": "3.7.3"
  },
  "mimetype": "text/x-python",
  "name": "python",
  "npconvert_exporter": "python",
  "pygments_lexer": "ipython3",
  "toc": {
   "base_numbering": 1,
   "nav_menu": {},
   "number_sections": true,
   "sideBar": true,
   "skip_h1_title": false,
   "title_cell": "Table of Contents",
   "title_sidebar": "Contents",
   "toc_cell": false,
   "toc_position": {},
   "toc_section_display": true,
   "toc_window_display": false
  },
  "version": 3
 },
 "nbformat": 4,
 "nbformat_minor": 2
}
